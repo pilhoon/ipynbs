{
 "cells": [
  {
   "cell_type": "code",
   "execution_count": 3,
   "metadata": {},
   "outputs": [
    {
     "name": "stdout",
     "output_type": "stream",
     "text": [
      "[[[ 0.89490711  0.3775035 ]\n",
      "  [ 0.9547161   0.93159019]\n",
      "  [ 0.80793221  0.02384631]\n",
      "  [ 0.13108018  0.71821935]\n",
      "  [ 0.66716979  0.88749993]]]\n",
      "(1, 5, 2)\n",
      "[array([[[ 0.44092727,  0.        ,  0.        ,  0.        ],\n",
      "        [ 0.        ,  0.        ,  0.        ,  0.        ],\n",
      "        [ 0.04438835,  0.        ,  0.        ,  0.15822202],\n",
      "        [ 0.73900437,  0.        ,  0.        ,  0.        ]]], dtype=float32)]\n",
      "(1, 1, 4, 4)\n"
     ]
    }
   ],
   "source": [
    "import keras.backend as K\n",
    "K.clear_session()\n",
    "import numpy as np\n",
    "from keras.layers.convolutional import Convolution1D as conv1d\n",
    "from keras.layers import Input, Dense\n",
    "from keras.models import Model, Sequential\n",
    "\n",
    "n_samples = 1\n",
    "steps = 5\n",
    "input_dim = 2\n",
    "x = np.random.random(n_samples*steps*input_dim).reshape(n_samples,steps,input_dim) # n_samples*5 matrix\n",
    "y = np.random.random(n_samples)\n",
    "\n",
    "\n",
    "n_filters = 4\n",
    "kernel_sz = 2\n",
    "inputlayer = Input(shape=(steps,input_dim), dtype='float', name='input') \n",
    "conv = conv1d(filters=n_filters, kernel_size=kernel_sz, activation='relu', name='conv1')(inputlayer)\n",
    "md   = Model(inputlayer, conv)\n",
    "#md.compile(loss='mse', optimizer='adam')\n",
    "\n",
    "print x\n",
    "print x.shape\n",
    "f = K.function(md.inputs, [md.layers[1].output])\n",
    "r = f([x])\n",
    "print r\n",
    "print np.array(r).shape"
   ]
  },
  {
   "cell_type": "code",
   "execution_count": 4,
   "metadata": {},
   "outputs": [
    {
     "data": {
      "text/plain": [
       "((2, 2, 4), (4,))"
      ]
     },
     "execution_count": 4,
     "metadata": {},
     "output_type": "execute_result"
    }
   ],
   "source": [
    "w = md.layers[1].get_weights()\n",
    "w[0].shape, w[1].shape # weight , bias"
   ]
  },
  {
   "cell_type": "code",
   "execution_count": 5,
   "metadata": {},
   "outputs": [
    {
     "name": "stdout",
     "output_type": "stream",
     "text": [
      "[[[-0.50227225  0.22159344 -0.50941461  0.07848805]\n",
      "  [ 0.11002266  0.08510613 -0.57799864 -0.53901976]]\n",
      "\n",
      " [[ 0.34197932 -0.40105507 -0.03211504 -0.22775397]\n",
      "  [ 0.5607478  -0.69288594 -0.05058467  0.19146889]]]\n",
      "[ 0.  0.  0.  0.]\n"
     ]
    }
   ],
   "source": [
    "print w[0]\n",
    "print w[1]"
   ]
  },
  {
   "cell_type": "code",
   "execution_count": 6,
   "metadata": {},
   "outputs": [
    {
     "data": {
      "text/plain": [
       "array([[-0.50227225,  0.11002266],\n",
       "       [ 0.34197932,  0.5607478 ]], dtype=float32)"
      ]
     },
     "execution_count": 6,
     "metadata": {},
     "output_type": "execute_result"
    }
   ],
   "source": [
    "F = w[0][:,:,0]\n",
    "F"
   ]
  },
  {
   "cell_type": "code",
   "execution_count": 7,
   "metadata": {},
   "outputs": [
    {
     "data": {
      "text/plain": [
       "array([[ 0.89490711,  0.3775035 ],\n",
       "       [ 0.9547161 ,  0.93159019]])"
      ]
     },
     "execution_count": 7,
     "metadata": {},
     "output_type": "execute_result"
    }
   ],
   "source": [
    "X = x[0,:2,:]\n",
    "X"
   ]
  },
  {
   "cell_type": "code",
   "execution_count": 8,
   "metadata": {},
   "outputs": [
    {
     "name": "stdout",
     "output_type": "stream",
     "text": [
      "0.440927257372\n",
      "-0.0873634881476\n",
      "0.0443883388636\n",
      "0.739004381854\n"
     ]
    }
   ],
   "source": [
    "for i in [0,1,2,3]:\n",
    "    print np.sum(w[0][:,:,0] * x[0,i:i+2:])"
   ]
  }
 ],
 "metadata": {
  "kernelspec": {
   "display_name": "Python 2",
   "language": "python",
   "name": "python2"
  },
  "language_info": {
   "codemirror_mode": {
    "name": "ipython",
    "version": 2
   },
   "file_extension": ".py",
   "mimetype": "text/x-python",
   "name": "python",
   "nbconvert_exporter": "python",
   "pygments_lexer": "ipython2",
   "version": "2.7.14"
  }
 },
 "nbformat": 4,
 "nbformat_minor": 2
}
