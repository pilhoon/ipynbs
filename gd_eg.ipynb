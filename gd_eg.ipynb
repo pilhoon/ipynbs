{
 "cells": [
  {
   "cell_type": "code",
   "execution_count": 1,
   "metadata": {},
   "outputs": [
    {
     "name": "stdout",
     "output_type": "stream",
     "text": [
      "[[-1.99614953  0.66639051  0.0462065   2.58517228  2.56126661]\n",
      " [-0.33030648  1.06520293  0.07695129  0.27702119  1.68732031]\n",
      " [-1.37272483  0.90813307  0.02769833  1.78665653  1.68701592]\n",
      " [ 0.14336511 -0.3130846   0.0569229  -0.31670545  0.91430655]\n",
      " [-0.69294667 -0.74168197  0.02655897  0.87454077  1.08088937]\n",
      " [ 0.53740042 -1.01607384  0.11502888 -0.97324359  1.63433049]\n",
      " [ 0.59466497  1.44161188  0.11415772 -1.0483941   1.56913805]\n",
      " [ 0.71234445 -0.91165517  0.12033039 -1.22015032  1.5803382 ]\n",
      " [ 0.46440941  0.19901735  0.03863728 -0.70887359  0.30449231]\n",
      " [-0.92292298 -0.24237934  0.01975129  1.19876578  1.15481094]]\n",
      "[1 1 1 0 1 0 0 0 0 1]\n"
     ]
    }
   ],
   "source": [
    "import numpy as np\n",
    "from sklearn.datasets import make_classification\n",
    "\n",
    "X, y = make_classification(n_samples=10,n_features=5, n_clusters_per_class=1)\n",
    "print X\n",
    "print y\n",
    "w = np.random.rand(1,5)"
   ]
  },
  {
   "cell_type": "code",
   "execution_count": 3,
   "metadata": {},
   "outputs": [],
   "source": [
    "data = X # 10,5\n",
    "y_true = y\n",
    "\n",
    "w = np.random.rand(5)"
   ]
  },
  {
   "cell_type": "code",
   "execution_count": 45,
   "metadata": {},
   "outputs": [
    {
     "name": "stdout",
     "output_type": "stream",
     "text": [
      "w= [0.40861299 0.86396127 0.49547197 0.6856703  0.76272931]\n",
      "y =  [1 1 1 0 1 0 0 0 0 1]\n",
      "ep 0 ----------------------------------------\n",
      "yhat =  [ 3.50910595  2.30036763  2.74919615  0.29650446  0.51330035 -0.02203852\n",
      "  2.0230215  -0.06819181  0.12704233  1.12602777]\n",
      "0:log loss = 3.569403\n",
      "dE/dw= [ 3.0969773   1.02462673  0.70902853 -0.35694032  1.37003848]\n",
      "w= [-10.64574771  -2.79334466  -2.03533675   1.95973422  -4.12749043]\n",
      "ep 1 ----------------------------------------\n",
      "yhat =  [ 13.78964726  -6.03725175   8.55880805  -5.16198289   6.64715935\n",
      " -11.76988964 -19.12109759 -14.19578617  -8.22454227   8.04484497]\n",
      "1:log loss = 3.453878\n",
      "dE/dw= [1.38155106 0.         0.         0.         0.69079952]\n",
      "w= [-15.41745601  -2.79334466  -2.03533675   1.95973422  -6.51342743]\n",
      "ep 2 ----------------------------------------\n",
      "yhat =  [ 17.20366974  -8.48696552  11.08393682  -8.0275572    7.37476482\n",
      " -18.2336173  -25.70252991 -21.36547347 -11.16706797   9.69345807]\n",
      "2:log loss = 3.453878\n",
      "dE/dw= [7.06539431e-01 0.00000000e+00 0.00000000e+00 0.00000000e+00\n",
      " 7.99597430e-06]\n",
      "w= [-17.85775675  -2.79334466  -2.03533675   1.95973422  -6.51345505]\n",
      "ep 3 ----------------------------------------\n",
      "yhat =  [ 22.07480418  -7.68096497  14.43375165  -8.37743644   9.06573325\n",
      " -19.54508109 -27.15373461 -23.10385181 -12.300375    11.94563581]\n",
      "3:log loss = 3.453878\n",
      "dE/dw= [ 0.00347427 -0.34538776  0.          0.         -0.33087926]\n",
      "w= [-17.86975647  -1.60041758  -2.03533675   1.95973422  -5.37063856]\n",
      "ep 4 ----------------------------------------\n",
      "yhat =  [ 25.82077039  -4.4779945   17.46151009  -7.70775928   9.4245341\n",
      " -18.8958919  -23.64789574 -22.39390134 -11.72055577  12.98730671]\n",
      "4:log loss = 3.453878\n",
      "dE/dw= [ 0.00000000e+00 -3.45387764e-01  0.00000000e+00  0.00000000e+00\n",
      "  7.99597430e-06]\n",
      "w= [-17.86975647  -0.40749051  -2.03533675   1.95973422  -5.37066618]\n",
      "ep 5 ----------------------------------------\n",
      "yhat =  [ 26.61565493  -3.20733168  18.54480002  -8.08127162   8.53973175\n",
      " -20.10803903 -21.92820123 -23.48148312 -11.483151    12.69813394]\n",
      "5:log loss = 3.453878\n",
      "dE/dw= [ 0.00000000e+00 -3.45387764e-01  0.00000000e+00  0.00000000e+00\n",
      "  7.99597430e-06]\n",
      "w= [-17.86975647   0.78543657  -2.03533675   1.95973422  -5.3706938 ]\n",
      "ep 6 ----------------------------------------\n",
      "yhat =  [ 27.41053948  -1.93666886  19.62808995  -8.45478397   7.65492941\n",
      " -21.32018616 -20.20850672 -24.56906491 -11.24574622  12.40896116]\n",
      "6:log loss = 3.453878\n",
      "dE/dw= [ 0.00320946 -0.33103753  0.         -0.34356707 -0.33373122]\n",
      "w= [-17.88084154   1.92879969  -2.03533675   3.14637283  -4.21802701]\n",
      "ep 7 ----------------------------------------\n",
      "yhat =  [ 34.21454543   1.55854847  24.74631539  -8.13626669   9.09826808\n",
      " -21.75893458 -18.00218437 -25.24558832 -11.51354374  14.89567819]\n",
      "7:log loss = 0.000000\n",
      "[1. 1. 1. 0. 1. 0. 0. 0. 0. 1.]\n"
     ]
    }
   ],
   "source": [
    "w= np.array([0.40861299,  0.86396127,  0.49547197,  0.6856703,   0.76272931])\n",
    "print 'w=', w\n",
    "from sklearn.metrics import log_loss\n",
    "\n",
    "    \n",
    "def neww(X, w, y_true, mu=1e-13): #gradient of negative log loss \n",
    "    p = X.dot(w)\n",
    "    p = np.clip(p, 1e-15, 1- 1e-15)\n",
    "    dE_per_dp = -y/p + (1-y)/(1-p) # E = nll\n",
    "    x_i_dEperdp = X * np.repeat(np.vstack(dE_per_dp), X.shape[1], axis=1)\n",
    "    w -= mu * np.mean(x_i_dEperdp, axis=0)\n",
    "    return w\n",
    "    \n",
    "def neww2(X, w, y_true, mu=1):\n",
    "    delta = 10\n",
    "    W = w + np.eye(w.shape[0])*delta\n",
    "    W = W.T\n",
    "    y = X.dot(w)\n",
    "    y_prime = X.dot(W)\n",
    "    #print y_prime\n",
    "    dE_per_dw = np.zeros(5)\n",
    "    for i in range(5):\n",
    "        #print '*'*30\n",
    "        #print y\n",
    "        #print y_prime[:,i]\n",
    "        #print '%dth loss= %f'%(i, log_loss(y_true, y_prime[:,i]) - log_loss(y_true, y))\n",
    "        dE_per_dw[i] = (log_loss(y_true, y_prime[:,i]) - log_loss(y_true, y))/delta\n",
    "    print 'dE/dw=', dE_per_dw\n",
    "    error = log_loss(y_true, y) - log_loss(y_true, y_true)\n",
    "    #print 'error=',error\n",
    "    w -= dE_per_dw*error*mu\n",
    "    #print w\n",
    "    return w\n",
    "\n",
    "print 'y = ',y\n",
    "for ep in range(200):\n",
    "    print 'ep', ep, '-'*40\n",
    "    yhat = X.dot(w)\n",
    "    print 'yhat = ', yhat \n",
    "    #print np.clip(yhat, 0, 1)\n",
    "    ll = log_loss(y, yhat)\n",
    "    print '%d:log loss = %f'%(ep, ll)\n",
    "    if abs(ll) < 1e-15:\n",
    "        print np.clip(yhat, 0, 1)\n",
    "        # test\n",
    "        #print np.clip(X.dot(w/min(abs(w))), 0, 1)\n",
    "        \n",
    "        break\n",
    "    w = neww2(X, w, y)\n",
    "    print 'w=',w\n",
    "    \n",
    "    "
   ]
  },
  {
   "cell_type": "code",
   "execution_count": 42,
   "metadata": {},
   "outputs": [
    {
     "name": "stderr",
     "output_type": "stream",
     "text": [
      "/home1/irteam/anaconda2/lib/python2.7/site-packages/ipykernel_launcher.py:1: RuntimeWarning: invalid value encountered in log\n",
      "  \"\"\"Entry point for launching an IPython kernel.\n"
     ]
    },
    {
     "data": {
      "text/plain": [
       "nan"
      ]
     },
     "execution_count": 42,
     "metadata": {},
     "output_type": "execute_result"
    }
   ],
   "source": [
    "-0*(1./1e10) + 1*np.log(1/1-1e10)"
   ]
  },
  {
   "cell_type": "code",
   "execution_count": 86,
   "metadata": {},
   "outputs": [
    {
     "name": "stdout",
     "output_type": "stream",
     "text": [
      "34.5391761936\n",
      "[ 34.53957599  34.53877639  34.53957599  34.53957599]\n"
     ]
    }
   ],
   "source": [
    "from sklearn.metrics import log_loss\n",
    "y_true= [0,1]\n",
    "y_pred= [1,0]\n",
    "print log_loss(y_true, y_pred, eps=1e-15)\n",
    "\n",
    "def ll(t, p, eps=1e-15):\n",
    "    p = np.clip(p, eps, 1-eps)\n",
    "    t = np.array(t)\n",
    "    x = -t*(np.log(p))-(1-t)*(np.log(1-p))\n",
    "    return x\n",
    "\n",
    "print ll([0,1,0,0], [1,0,1,1])"
   ]
  },
  {
   "cell_type": "code",
   "execution_count": 19,
   "metadata": {},
   "outputs": [
    {
     "data": {
      "text/plain": [
       "array([0., 0., 0., 1., 0.])"
      ]
     },
     "execution_count": 19,
     "metadata": {},
     "output_type": "execute_result"
    }
   ],
   "source": [
    "a=np.zeros(5)\n",
    "a[3]=1\n",
    "a"
   ]
  }
 ],
 "metadata": {
  "kernelspec": {
   "display_name": "Python 2",
   "language": "python",
   "name": "python2"
  },
  "language_info": {
   "codemirror_mode": {
    "name": "ipython",
    "version": 2
   },
   "file_extension": ".py",
   "mimetype": "text/x-python",
   "name": "python",
   "nbconvert_exporter": "python",
   "pygments_lexer": "ipython2",
   "version": "2.7.14"
  }
 },
 "nbformat": 4,
 "nbformat_minor": 2
}
